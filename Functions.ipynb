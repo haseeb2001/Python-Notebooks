{
 "cells": [
  {
   "cell_type": "markdown",
   "metadata": {},
   "source": [
    "# Positional parameter"
   ]
  },
  {
   "cell_type": "code",
   "execution_count": 1,
   "metadata": {},
   "outputs": [],
   "source": [
    "def name ( ):\n",
    "    print(\"My name is Haseeb\")"
   ]
  },
  {
   "cell_type": "code",
   "execution_count": 2,
   "metadata": {},
   "outputs": [
    {
     "name": "stdout",
     "output_type": "stream",
     "text": [
      "My name is Haseeb\n"
     ]
    }
   ],
   "source": [
    "name()"
   ]
  },
  {
   "cell_type": "code",
   "execution_count": 24,
   "metadata": {},
   "outputs": [],
   "source": [
    "def full_name(a,b,c=\"\"):\n",
    "    full=a+\" \"+b+\" \"+c\n",
    "    return full\n",
    "    "
   ]
  },
  {
   "cell_type": "code",
   "execution_count": 13,
   "metadata": {},
   "outputs": [
    {
     "name": "stdout",
     "output_type": "stream",
     "text": [
      "Muhammad Haseeb Ashraf\n"
     ]
    }
   ],
   "source": [
    "f=full_name(\"Muhammad\",\"Haseeb\",\"Ashraf\")      ##Positional Parameter\n",
    "print(f)"
   ]
  },
  {
   "cell_type": "code",
   "execution_count": 15,
   "metadata": {},
   "outputs": [
    {
     "data": {
      "text/plain": [
       "'Muhammad Haseeb Ashraf'"
      ]
     },
     "execution_count": 15,
     "metadata": {},
     "output_type": "execute_result"
    }
   ],
   "source": [
    "g=full_name(b=\"Haseeb\",c=\"Ashraf\",a=\"Muhammad\")\n",
    "g"
   ]
  },
  {
   "cell_type": "code",
   "execution_count": 26,
   "metadata": {},
   "outputs": [
    {
     "data": {
      "text/plain": [
       "'Muhammad Haseeb '"
      ]
     },
     "execution_count": 26,
     "metadata": {},
     "output_type": "execute_result"
    }
   ],
   "source": [
    "k=full_name(\"Muhammad\",\"Haseeb\")\n",
    "k"
   ]
  },
  {
   "cell_type": "markdown",
   "metadata": {},
   "source": [
    "# Default Parameter"
   ]
  },
  {
   "cell_type": "code",
   "execution_count": 20,
   "metadata": {},
   "outputs": [],
   "source": [
    "def person(name,age,gender=\"Male\",city=\"Karachi\"):\n",
    "    print(f\"My name is {name} \\nMy age is {age}\")\n",
    "    print(f\"My gender is {gender}\")\n",
    "    print(f\"I live in {city}\")"
   ]
  },
  {
   "cell_type": "code",
   "execution_count": 21,
   "metadata": {},
   "outputs": [
    {
     "name": "stdout",
     "output_type": "stream",
     "text": [
      "My name is Haseeb \n",
      "My age is 18\n",
      "My gender is Male\n",
      "I live in Karachi\n"
     ]
    }
   ],
   "source": [
    "person(\"Haseeb\",\"18\")"
   ]
  },
  {
   "cell_type": "code",
   "execution_count": 22,
   "metadata": {},
   "outputs": [
    {
     "name": "stdout",
     "output_type": "stream",
     "text": [
      "My name is Haseeb \n",
      "My age is 18\n",
      "My gender is Male\n",
      "I live in Lahore\n"
     ]
    }
   ],
   "source": [
    "person(\"Haseeb\",\"18\",city=\"Lahore\")"
   ]
  },
  {
   "cell_type": "code",
   "execution_count": 32,
   "metadata": {},
   "outputs": [],
   "source": [
    "def shop(bill,discount=30):\n",
    "    amount=bill*(discount/100)\n",
    "    return amount"
   ]
  },
  {
   "cell_type": "code",
   "execution_count": 33,
   "metadata": {},
   "outputs": [
    {
     "data": {
      "text/plain": [
       "600.0"
      ]
     },
     "execution_count": 33,
     "metadata": {},
     "output_type": "execute_result"
    }
   ],
   "source": [
    "a1=shop(1200,50)\n",
    "a1"
   ]
  },
  {
   "cell_type": "code",
   "execution_count": 47,
   "metadata": {},
   "outputs": [
    {
     "name": "stdout",
     "output_type": "stream",
     "text": [
      "Discounted Value ::"
     ]
    },
    {
     "data": {
      "text/plain": [
       "420.0"
      ]
     },
     "execution_count": 47,
     "metadata": {},
     "output_type": "execute_result"
    }
   ],
   "source": [
    "a2=shop(1400)\n",
    "print(\"Discounted Value :\",end=\":\")\n",
    "a2"
   ]
  },
  {
   "cell_type": "code",
   "execution_count": 51,
   "metadata": {},
   "outputs": [],
   "source": [
    "def shop(bill,discount=30):\n",
    "    amount=bill*(discount/100)\n",
    "    return amount"
   ]
  },
  {
   "cell_type": "code",
   "execution_count": 52,
   "metadata": {},
   "outputs": [
    {
     "name": "stdout",
     "output_type": "stream",
     "text": [
      "Enter your total ammount :10000\n",
      "Your Discounted Value : 7000.0\n"
     ]
    }
   ],
   "source": [
    "userbill=int(input(\"Enter your total ammount :\"))\n",
    "ob=shop(userbill)\n",
    "print(f\"Your Discounted Value : {userbill-ob}\")"
   ]
  },
  {
   "cell_type": "code",
   "execution_count": 2,
   "metadata": {},
   "outputs": [],
   "source": [
    "def shopp(bill,discount):\n",
    "    ab=bill*(discount/100)\n",
    "    disc=bill-ab\n",
    "    return disc"
   ]
  },
  {
   "cell_type": "code",
   "execution_count": 5,
   "metadata": {},
   "outputs": [
    {
     "name": "stdout",
     "output_type": "stream",
     "text": [
      "Enter Your Bill :12000\n",
      "Enter available discount :10\n",
      "Your discounted Bill : 10800.0\n"
     ]
    }
   ],
   "source": [
    "Tot_bill=int(input(\"Enter Your Bill :\"))\n",
    "Disc=int(input(\"Enter available discount :\"))\n",
    "new_bill=shopp(Tot_bill,Disc)\n",
    "print(f\"Your discounted Bill : {new_bill}\")"
   ]
  },
  {
   "cell_type": "code",
   "execution_count": 8,
   "metadata": {},
   "outputs": [],
   "source": [
    "def pizza(size , *toppings):\n",
    "    print(f\"Your pizza size is {size}\")\n",
    "    print(toppings)"
   ]
  },
  {
   "cell_type": "code",
   "execution_count": 7,
   "metadata": {},
   "outputs": [
    {
     "name": "stdout",
     "output_type": "stream",
     "text": [
      "Your pizza size is Extra Large\n",
      "('Cheese', 'Fajeeta')\n"
     ]
    }
   ],
   "source": [
    "pizza(\"Extra Large\",\"Cheese\",\"Fajeeta\")"
   ]
  },
  {
   "cell_type": "code",
   "execution_count": 9,
   "metadata": {},
   "outputs": [],
   "source": [
    "def pizza(size , *toppings):\n",
    "    print(f\"Your pizza size is {size}\")\n",
    "    for topping in toppings:\n",
    "        print(\"You have added :\"+topping)"
   ]
  },
  {
   "cell_type": "code",
   "execution_count": 10,
   "metadata": {},
   "outputs": [
    {
     "name": "stdout",
     "output_type": "stream",
     "text": [
      "Your pizza size is Large\n",
      "You have added :Cheese\n",
      "You have added :Tikka\n",
      "You have added :Fajeeeta\n"
     ]
    }
   ],
   "source": [
    "pizza(\"Large\",\"Cheese\",\"Tikka\",\"Fajeeeta\")"
   ]
  },
  {
   "cell_type": "code",
   "execution_count": 11,
   "metadata": {},
   "outputs": [],
   "source": [
    "def info(name,email,cnic,**others):\n",
    "    print(f\"Name :{name}\")\n",
    "    print(f\"Email :{email}\")\n",
    "    print(f\"CNIC No:{cnic}\")\n",
    "    print(f\"Others :{others}\")"
   ]
  },
  {
   "cell_type": "code",
   "execution_count": 18,
   "metadata": {},
   "outputs": [
    {
     "name": "stdout",
     "output_type": "stream",
     "text": [
      "Name :haseeb\n",
      "Email :k181070@nu.edu.pk\n",
      "CNIC No:1212121\n",
      "Others :{'Location': 'Karachi', 'Gender': 'Male'}\n"
     ]
    }
   ],
   "source": [
    "info(\"haseeb\",\"k181070@nu.edu.pk\",1212121,Location=\"Karachi\",Gender=\"Male\")"
   ]
  },
  {
   "cell_type": "code",
   "execution_count": 21,
   "metadata": {},
   "outputs": [],
   "source": [
    "def info(name,email,cnic,**others):\n",
    "    print(f\"Name :{name}\")\n",
    "    print(f\"Email :{email}\")\n",
    "    print(f\"CNIC No:{cnic}\")\n",
    "    for key,value in others.items():\n",
    "        print(key,\":\",value)"
   ]
  },
  {
   "cell_type": "code",
   "execution_count": 22,
   "metadata": {},
   "outputs": [
    {
     "name": "stdout",
     "output_type": "stream",
     "text": [
      "Name :haseeb\n",
      "Email :k181070@nu.edu.pk\n",
      "CNIC No:1212121\n",
      "Location : Karachi\n",
      "Gender : Male\n"
     ]
    }
   ],
   "source": [
    "info(\"haseeb\",\"k181070@nu.edu.pk\",1212121,Location=\"Karachi\",Gender=\"Male\")"
   ]
  },
  {
   "cell_type": "markdown",
   "metadata": {},
   "source": [
    "# Variable Scope\n",
    "Local and Global"
   ]
  },
  {
   "cell_type": "code",
   "execution_count": 33,
   "metadata": {},
   "outputs": [],
   "source": [
    "#sallary=12\n",
    "def piaic():\n",
    "    sallary=23\n",
    "    print(sallary)\n"
   ]
  },
  {
   "cell_type": "code",
   "execution_count": 35,
   "metadata": {},
   "outputs": [
    {
     "name": "stdout",
     "output_type": "stream",
     "text": [
      "23\n"
     ]
    }
   ],
   "source": [
    "piaic()\n"
   ]
  },
  {
   "cell_type": "code",
   "execution_count": null,
   "metadata": {},
   "outputs": [],
   "source": []
  },
  {
   "cell_type": "code",
   "execution_count": null,
   "metadata": {},
   "outputs": [],
   "source": []
  }
 ],
 "metadata": {
  "kernelspec": {
   "display_name": "Python 3",
   "language": "python",
   "name": "python3"
  },
  "language_info": {
   "codemirror_mode": {
    "name": "ipython",
    "version": 3
   },
   "file_extension": ".py",
   "mimetype": "text/x-python",
   "name": "python",
   "nbconvert_exporter": "python",
   "pygments_lexer": "ipython3",
   "version": "3.7.3"
  }
 },
 "nbformat": 4,
 "nbformat_minor": 2
}
