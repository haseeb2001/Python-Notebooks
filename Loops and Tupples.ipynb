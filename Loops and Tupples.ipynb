{
 "cells": [
  {
   "cell_type": "code",
   "execution_count": 3,
   "metadata": {},
   "outputs": [
    {
     "data": {
      "text/plain": [
       "0"
      ]
     },
     "execution_count": 3,
     "metadata": {},
     "output_type": "execute_result"
    }
   ],
   "source": [
    "new_tuple=(\"Ali\",\"Hamza\",\"Ammar\",\"Usman\",\"Hamza\",\"Hamza\")\n",
    "new_tuple.index(\"Ali\")"
   ]
  },
  {
   "cell_type": "code",
   "execution_count": 4,
   "metadata": {},
   "outputs": [
    {
     "data": {
      "text/plain": [
       "1"
      ]
     },
     "execution_count": 4,
     "metadata": {},
     "output_type": "execute_result"
    }
   ],
   "source": [
    "new_tuple.index(\"Hamza\")"
   ]
  },
  {
   "cell_type": "code",
   "execution_count": 5,
   "metadata": {},
   "outputs": [
    {
     "data": {
      "text/plain": [
       "4"
      ]
     },
     "execution_count": 5,
     "metadata": {},
     "output_type": "execute_result"
    }
   ],
   "source": [
    "new_tuple.index(\"Hamza\",2)"
   ]
  },
  {
   "cell_type": "code",
   "execution_count": 6,
   "metadata": {},
   "outputs": [
    {
     "data": {
      "text/plain": [
       "3"
      ]
     },
     "execution_count": 6,
     "metadata": {},
     "output_type": "execute_result"
    }
   ],
   "source": [
    "new_tuple.count(\"Hamza\")"
   ]
  },
  {
   "cell_type": "markdown",
   "metadata": {},
   "source": [
    "# LOOP"
   ]
  },
  {
   "cell_type": "code",
   "execution_count": 7,
   "metadata": {},
   "outputs": [
    {
     "name": "stdout",
     "output_type": "stream",
     "text": [
      "2\n",
      "4\n",
      "8\n",
      "10\n",
      "12\n",
      "14\n"
     ]
    }
   ],
   "source": [
    "my_num=[1,2,4,5,6,7]\n",
    "for i in my_num:\n",
    "    mul=i*2\n",
    "    print(mul)"
   ]
  },
  {
   "cell_type": "code",
   "execution_count": 8,
   "metadata": {},
   "outputs": [
    {
     "name": "stdout",
     "output_type": "stream",
     "text": [
      "Ali\n",
      "Hamza\n",
      "Ammar\n",
      "Haseeb\n",
      "Zain\n"
     ]
    }
   ],
   "source": [
    "names=[\"Ali\",\"Hamza\",\"Ammar\",\"Haseeb\",\"Zain\"]\n",
    "for n in names:\n",
    "    print(n)"
   ]
  },
  {
   "cell_type": "code",
   "execution_count": 9,
   "metadata": {},
   "outputs": [
    {
     "name": "stdout",
     "output_type": "stream",
     "text": [
      "Haseeb\n",
      "Haseeb\n"
     ]
    }
   ],
   "source": [
    "for i in range(1,10,5):   ##(first(starting pt),second(Ending pt),Third(Increment) )\n",
    "    print(\"Haseeb\")"
   ]
  },
  {
   "cell_type": "code",
   "execution_count": 10,
   "metadata": {},
   "outputs": [
    {
     "name": "stdout",
     "output_type": "stream",
     "text": [
      "11 10 9 8 7 6 5 4 3 2 "
     ]
    }
   ],
   "source": [
    "for i in range(11,1,-1):\n",
    "    print(i,end=\" \")"
   ]
  },
  {
   "cell_type": "code",
   "execution_count": 11,
   "metadata": {},
   "outputs": [
    {
     "name": "stdout",
     "output_type": "stream",
     "text": [
      "Ali**Hamza**Ammar\n"
     ]
    }
   ],
   "source": [
    "print(\"Ali\",\"Hamza\",\"Ammar\",sep=\"**\")"
   ]
  },
  {
   "cell_type": "code",
   "execution_count": 12,
   "metadata": {},
   "outputs": [
    {
     "name": "stdout",
     "output_type": "stream",
     "text": [
      "my name is Haseeb and my age is 18\n"
     ]
    }
   ],
   "source": [
    "name=\"Haseeb\"\n",
    "age=\"18\"\n",
    "print(\"my name is \"+ name +\" and my age is \"+ age)"
   ]
  },
  {
   "cell_type": "code",
   "execution_count": 13,
   "metadata": {},
   "outputs": [
    {
     "name": "stdout",
     "output_type": "stream",
     "text": [
      "my name is Haseeb and my age is 18\n"
     ]
    }
   ],
   "source": [
    "print(\"my name is {} and my age is {}\".format(name,age))"
   ]
  },
  {
   "cell_type": "code",
   "execution_count": 14,
   "metadata": {},
   "outputs": [
    {
     "name": "stdout",
     "output_type": "stream",
     "text": [
      "my name is Haseeb and my age is 18\n"
     ]
    }
   ],
   "source": [
    "print(f\"my name is {name} and my age is {age}\")"
   ]
  },
  {
   "cell_type": "code",
   "execution_count": 16,
   "metadata": {},
   "outputs": [
    {
     "name": "stdout",
     "output_type": "stream",
     "text": [
      "Table of ?19\n",
      "19x1=19\n",
      "19x2=38\n",
      "19x3=57\n",
      "19x4=76\n",
      "19x5=95\n",
      "19x6=114\n",
      "19x7=133\n",
      "19x8=152\n",
      "19x9=171\n",
      "19x10=190\n"
     ]
    }
   ],
   "source": [
    "tab=int(input(\"Table of ?\"))\n",
    "for i in range(1,11):\n",
    "    print(f\"{tab}x{i}={tab*i}\")"
   ]
  },
  {
   "cell_type": "code",
   "execution_count": 20,
   "metadata": {},
   "outputs": [
    {
     "name": "stdout",
     "output_type": "stream",
     "text": [
      "Table of ?2\n",
      "2x1=2\n",
      "2x2=4\n"
     ]
    }
   ],
   "source": [
    "tab=int(input(\"Table of ?\"))\n",
    "for i in range(1,11):\n",
    "    if(i==3):\n",
    "        break\n",
    "    print(f\"{tab}x{i}={tab*i}\")"
   ]
  },
  {
   "cell_type": "code",
   "execution_count": 21,
   "metadata": {},
   "outputs": [
    {
     "name": "stdout",
     "output_type": "stream",
     "text": [
      "Table of ?6\n",
      "6x1=6\n",
      "6x2=12\n",
      "6x4=24\n",
      "6x5=30\n",
      "6x6=36\n",
      "6x7=42\n",
      "6x8=48\n",
      "6x9=54\n",
      "6x10=60\n"
     ]
    }
   ],
   "source": [
    "tab=int(input(\"Table of ?\"))\n",
    "for i in range(1,11):\n",
    "    if(i==3):\n",
    "        continue\n",
    "    print(f\"{tab}x{i}={tab*i}\")"
   ]
  },
  {
   "cell_type": "code",
   "execution_count": 2,
   "metadata": {},
   "outputs": [
    {
     "name": "stdout",
     "output_type": "stream",
     "text": [
      "Enter Name :haseeb\n",
      "Enjoy Party\n",
      "Enter Name :hassan\n",
      "Enjoy Party\n",
      "Enter Name :amir\n",
      "Enjoy Party\n",
      "Enter Name :jani\n",
      "Enjoy Party\n",
      "Enter Name :fuck \n",
      "Enjoy Party\n",
      "Enter Name :ali\n",
      "Enjoy Party\n",
      "Enter Name :Ali\n",
      "Party End !!\n"
     ]
    }
   ],
   "source": [
    "partyy=[]\n",
    "for i in range(0,10):\n",
    "    y=input(\"Enter Name :\")\n",
    "    partyy.append(y)\n",
    "    if(partyy[i]==\"Ali\"):\n",
    "        print(\"Party End !!\")\n",
    "        break\n",
    "    else:\n",
    "        print(\"Enjoy Party\")\n",
    "        "
   ]
  },
  {
   "cell_type": "code",
   "execution_count": 4,
   "metadata": {
    "scrolled": true
   },
   "outputs": [
    {
     "name": "stdout",
     "output_type": "stream",
     "text": [
      "Enjoy Karo\n",
      "Enjoy Karo\n",
      "Enjoy Karo\n",
      "Bhaago abba agae\n"
     ]
    }
   ],
   "source": [
    "friendds=['a','b','c','g','e','g']\n",
    "for f in friendds:\n",
    "    if (f!='g'):\n",
    "        print(\"Enjoy Karo\")\n",
    "    else:\n",
    "        print(\"Bhaago abba agae\")\n",
    "        break"
   ]
  },
  {
   "cell_type": "markdown",
   "metadata": {},
   "source": [
    "# Nested Loops"
   ]
  },
  {
   "cell_type": "code",
   "execution_count": 8,
   "metadata": {},
   "outputs": [
    {
     "name": "stdout",
     "output_type": "stream",
     "text": [
      "0 a||0 b||0 c||0 d||1 a||1 b||1 c||1 d||2 a||2 b||2 c||2 d||3 a||3 b||3 c||3 d||4 a||4 b||4 c||4 d||"
     ]
    }
   ],
   "source": [
    "for a in range(5):\n",
    "    for b in [\"a\",\"b\",\"c\",\"d\"]:\n",
    "        print(a,b,end=\"||\")"
   ]
  },
  {
   "cell_type": "code",
   "execution_count": 9,
   "metadata": {},
   "outputs": [],
   "source": [
    "for a in range(5):\n",
    "    for b in [\"a\",\"b\",\"c\",\"d\"]:\n",
    "        pass"
   ]
  },
  {
   "cell_type": "code",
   "execution_count": 10,
   "metadata": {},
   "outputs": [
    {
     "name": "stdout",
     "output_type": "stream",
     "text": [
      "4 d||"
     ]
    }
   ],
   "source": [
    "print(a,b,end=\"||\")"
   ]
  },
  {
   "cell_type": "code",
   "execution_count": 14,
   "metadata": {},
   "outputs": [
    {
     "name": "stdout",
     "output_type": "stream",
     "text": [
      "1x1=1 1x2=2 1x3=3 1x4=4 1x5=5 1x6=6 1x7=7 1x8=8 1x9=9 1x10=10 \n",
      "2x1=2 2x2=4 2x3=6 2x4=8 2x5=10 2x6=12 2x7=14 2x8=16 2x9=18 2x10=20 \n",
      "3x1=3 3x2=6 3x3=9 3x4=12 3x5=15 3x6=18 3x7=21 3x8=24 3x9=27 3x10=30 \n",
      "4x1=4 4x2=8 4x3=12 4x4=16 4x5=20 4x6=24 4x7=28 4x8=32 4x9=36 4x10=40 \n",
      "5x1=5 5x2=10 5x3=15 5x4=20 5x5=25 5x6=30 5x7=35 5x8=40 5x9=45 5x10=50 \n",
      "6x1=6 6x2=12 6x3=18 6x4=24 6x5=30 6x6=36 6x7=42 6x8=48 6x9=54 6x10=60 \n",
      "7x1=7 7x2=14 7x3=21 7x4=28 7x5=35 7x6=42 7x7=49 7x8=56 7x9=63 7x10=70 \n",
      "8x1=8 8x2=16 8x3=24 8x4=32 8x5=40 8x6=48 8x7=56 8x8=64 8x9=72 8x10=80 \n",
      "9x1=9 9x2=18 9x3=27 9x4=36 9x5=45 9x6=54 9x7=63 9x8=72 9x9=81 9x10=90 \n"
     ]
    }
   ],
   "source": [
    "tab=1\n",
    "for j in range (1,10):\n",
    "    for i in range(1,11):\n",
    "        print(f\"{j}x{i}={j*i}\",end=\" \")\n",
    "    print(\"\")    "
   ]
  },
  {
   "cell_type": "code",
   "execution_count": null,
   "metadata": {},
   "outputs": [],
   "source": []
  }
 ],
 "metadata": {
  "kernelspec": {
   "display_name": "Python 3",
   "language": "python",
   "name": "python3"
  },
  "language_info": {
   "codemirror_mode": {
    "name": "ipython",
    "version": 3
   },
   "file_extension": ".py",
   "mimetype": "text/x-python",
   "name": "python",
   "nbconvert_exporter": "python",
   "pygments_lexer": "ipython3",
   "version": "3.7.3"
  }
 },
 "nbformat": 4,
 "nbformat_minor": 2
}
