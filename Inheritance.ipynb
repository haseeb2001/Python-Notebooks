{
 "cells": [
  {
   "cell_type": "code",
   "execution_count": 32,
   "metadata": {},
   "outputs": [],
   "source": [
    "class Car():\n",
    "    def __init__(self,company,model,year):\n",
    "        self.company=company\n",
    "        self.model=model\n",
    "        self.year=year\n",
    "        self.fuel=20\n",
    "        \n",
    "    def fullname(self):\n",
    "        print(f\"Car full name is {self.company} {self.model} {self.year}\")\n",
    "    def get_fuel(self):\n",
    "        print(f\"Car Fuel = {self.fuel}\")\n",
    "        "
   ]
  },
  {
   "cell_type": "code",
   "execution_count": 33,
   "metadata": {},
   "outputs": [],
   "source": [
    "car1=Car(\"Suzuki\",\"Cultus\",\"2018\")"
   ]
  },
  {
   "cell_type": "code",
   "execution_count": 34,
   "metadata": {},
   "outputs": [
    {
     "data": {
      "text/plain": [
       "'Suzuki'"
      ]
     },
     "execution_count": 34,
     "metadata": {},
     "output_type": "execute_result"
    }
   ],
   "source": [
    "car1.company"
   ]
  },
  {
   "cell_type": "code",
   "execution_count": 35,
   "metadata": {},
   "outputs": [
    {
     "name": "stdout",
     "output_type": "stream",
     "text": [
      "Car full name is Suzuki Cultus 2018\n"
     ]
    }
   ],
   "source": [
    "car1.fullname()"
   ]
  },
  {
   "cell_type": "markdown",
   "metadata": {},
   "source": [
    "# Inheritance"
   ]
  },
  {
   "cell_type": "code",
   "execution_count": 36,
   "metadata": {},
   "outputs": [],
   "source": [
    "class Electric_car(Car):\n",
    "    def __init__(self,company,model,year,max_speed):\n",
    "        super().__init__(company,model,year)\n",
    "        self.batterysize=200\n",
    "        self.max_speed=max_speed    \n",
    "        \n",
    "    def get_size(self):\n",
    "        print(self.batterysize)\n",
    "    def run(self):\n",
    "        print(\"Zooooooooooooooooooooooooooo\")\n",
    "    def get_fuel(self):\n",
    "        print(\"Electric has no fuel \")"
   ]
  },
  {
   "cell_type": "code",
   "execution_count": 37,
   "metadata": {},
   "outputs": [],
   "source": [
    "E_car1=Electric_car(\"Tesla\",\"Model X\",\"2018\",\"220 mph\")"
   ]
  },
  {
   "cell_type": "code",
   "execution_count": 38,
   "metadata": {},
   "outputs": [
    {
     "data": {
      "text/plain": [
       "'Model X'"
      ]
     },
     "execution_count": 38,
     "metadata": {},
     "output_type": "execute_result"
    }
   ],
   "source": [
    "E_car1.model"
   ]
  },
  {
   "cell_type": "code",
   "execution_count": 39,
   "metadata": {},
   "outputs": [
    {
     "name": "stdout",
     "output_type": "stream",
     "text": [
      "Car full name is Tesla Model X 2018\n"
     ]
    }
   ],
   "source": [
    "E_car1.fullname()"
   ]
  },
  {
   "cell_type": "code",
   "execution_count": 40,
   "metadata": {},
   "outputs": [
    {
     "name": "stdout",
     "output_type": "stream",
     "text": [
      "200\n"
     ]
    }
   ],
   "source": [
    "E_car1.get_size()"
   ]
  },
  {
   "cell_type": "code",
   "execution_count": 41,
   "metadata": {},
   "outputs": [
    {
     "name": "stdout",
     "output_type": "stream",
     "text": [
      "Zooooooooooooooooooooooooooo\n"
     ]
    }
   ],
   "source": [
    "E_car1.run()"
   ]
  },
  {
   "cell_type": "code",
   "execution_count": 42,
   "metadata": {},
   "outputs": [
    {
     "data": {
      "text/plain": [
       "'220 mph'"
      ]
     },
     "execution_count": 42,
     "metadata": {},
     "output_type": "execute_result"
    }
   ],
   "source": [
    "E_car1.max_speed"
   ]
  },
  {
   "cell_type": "code",
   "execution_count": 43,
   "metadata": {},
   "outputs": [
    {
     "name": "stdout",
     "output_type": "stream",
     "text": [
      "Electric has no fuel \n"
     ]
    }
   ],
   "source": [
    "E_car1.get_fuel()"
   ]
  },
  {
   "cell_type": "code",
   "execution_count": 44,
   "metadata": {},
   "outputs": [],
   "source": [
    "class Mobile():\n",
    "    def __init__(self,color,battery_duration,brand):\n",
    "        self.color=color\n",
    "        self.battery=battery_duration\n",
    "        self.brand=brand\n",
    "        self.price=0\n",
    "        \n",
    "    def receive_call(self):\n",
    "        print(f\"Call is received now by {self.brand}\")\n",
    "    \n",
    "    def dial_call(self):\n",
    "        print(\"Call is Dialed now\")\n",
    "    def get_price(self):\n",
    "        print(f\"{self.brand} price is : {self.price}\")\n",
    "    def set_price(self,new):\n",
    "        self.price=new\n",
    "    def functions(self):\n",
    "        print(\"No Camera \")\n",
    "        "
   ]
  },
  {
   "cell_type": "code",
   "execution_count": 48,
   "metadata": {},
   "outputs": [],
   "source": [
    "class Smart_Mobile(Mobile):\n",
    "    def __init__(self,color,battery_duration,brand,cam):\n",
    "        super().__init__(color,battery_duration,brand)\n",
    "        self.camera=cam\n",
    "        \n",
    "    def functions(self):\n",
    "        print(f\" Camera = {self.camera}\")"
   ]
  },
  {
   "cell_type": "code",
   "execution_count": 49,
   "metadata": {},
   "outputs": [],
   "source": [
    "s1=Smart_Mobile(\"White\",\"50 mAh\",\"Samsung\",\"23 mp\")"
   ]
  },
  {
   "cell_type": "code",
   "execution_count": 50,
   "metadata": {},
   "outputs": [
    {
     "name": "stdout",
     "output_type": "stream",
     "text": [
      " Camera = 23 mp\n"
     ]
    }
   ],
   "source": [
    "s1.functions()"
   ]
  },
  {
   "cell_type": "code",
   "execution_count": 51,
   "metadata": {},
   "outputs": [],
   "source": [
    "s1.set_price(24000)"
   ]
  },
  {
   "cell_type": "code",
   "execution_count": 52,
   "metadata": {},
   "outputs": [
    {
     "name": "stdout",
     "output_type": "stream",
     "text": [
      "Samsung price is : 24000\n"
     ]
    }
   ],
   "source": [
    "s1.get_price()"
   ]
  },
  {
   "cell_type": "markdown",
   "metadata": {},
   "source": [
    "# FILING"
   ]
  },
  {
   "cell_type": "code",
   "execution_count": 3,
   "metadata": {},
   "outputs": [],
   "source": [
    "with open(\"file.txt\",\"w\") as fileobject:  ##(Aliyas or nick name) opening in write mode\n",
    "    fileobject.write(\"Hello PIAIC\")\n",
    "    "
   ]
  },
  {
   "cell_type": "code",
   "execution_count": 4,
   "metadata": {},
   "outputs": [],
   "source": [
    "with open (\"file.txt\",\"r\") as f:\n",
    "    ab=f.read()"
   ]
  },
  {
   "cell_type": "code",
   "execution_count": 5,
   "metadata": {},
   "outputs": [
    {
     "data": {
      "text/plain": [
       "'Hello PIAIC'"
      ]
     },
     "execution_count": 5,
     "metadata": {},
     "output_type": "execute_result"
    }
   ],
   "source": [
    "ab"
   ]
  },
  {
   "cell_type": "code",
   "execution_count": 6,
   "metadata": {},
   "outputs": [],
   "source": [
    "with open (\"file.txt\",\"a\") as f:\n",
    "    f.write(\"\\nHow are you\")"
   ]
  },
  {
   "cell_type": "code",
   "execution_count": 7,
   "metadata": {},
   "outputs": [
    {
     "name": "stdout",
     "output_type": "stream",
     "text": [
      "Hello PIAIC\n",
      "How are you\n"
     ]
    }
   ],
   "source": [
    "with open (\"file.txt\",\"r+\") as f:\n",
    "    print(f.read())\n",
    "    f.write(\"\\nlife is shit\")\n",
    "    "
   ]
  },
  {
   "cell_type": "code",
   "execution_count": 8,
   "metadata": {},
   "outputs": [],
   "source": [
    "with open (\"file.txt\",\"r\") as f:\n",
    "    ab=f.read()\n",
    "    "
   ]
  },
  {
   "cell_type": "code",
   "execution_count": 9,
   "metadata": {},
   "outputs": [
    {
     "data": {
      "text/plain": [
       "'Hello PIAIC\\nHow are you\\nlife is shit'"
      ]
     },
     "execution_count": 9,
     "metadata": {},
     "output_type": "execute_result"
    }
   ],
   "source": [
    "ab\n"
   ]
  },
  {
   "cell_type": "code",
   "execution_count": null,
   "metadata": {},
   "outputs": [],
   "source": []
  }
 ],
 "metadata": {
  "kernelspec": {
   "display_name": "Python 3",
   "language": "python",
   "name": "python3"
  },
  "language_info": {
   "codemirror_mode": {
    "name": "ipython",
    "version": 3
   },
   "file_extension": ".py",
   "mimetype": "text/x-python",
   "name": "python",
   "nbconvert_exporter": "python",
   "pygments_lexer": "ipython3",
   "version": "3.7.3"
  }
 },
 "nbformat": 4,
 "nbformat_minor": 2
}
