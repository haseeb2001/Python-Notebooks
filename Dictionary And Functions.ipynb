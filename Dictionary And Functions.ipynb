{
 "cells": [
  {
   "cell_type": "markdown",
   "metadata": {},
   "source": [
    "# DICTIONARY\n"
   ]
  },
  {
   "cell_type": "code",
   "execution_count": 1,
   "metadata": {},
   "outputs": [],
   "source": [
    "Empty_dict={}\n",
    "Empty_dict['f_name']='Haseeb'\n",
    "Empty_dict['Age']='18'\n"
   ]
  },
  {
   "cell_type": "code",
   "execution_count": 2,
   "metadata": {},
   "outputs": [
    {
     "name": "stdout",
     "output_type": "stream",
     "text": [
      "{'f_name': 'Haseeb', 'Age': '18'}\n"
     ]
    }
   ],
   "source": [
    "print(Empty_dict)"
   ]
  },
  {
   "cell_type": "code",
   "execution_count": 7,
   "metadata": {},
   "outputs": [],
   "source": [
    "dict1={'Name':'Muhammad Haseeb','UNI':'FAST','Team':'Pakistan','House':\"Targaryan\"}"
   ]
  },
  {
   "cell_type": "code",
   "execution_count": 8,
   "metadata": {},
   "outputs": [
    {
     "name": "stdout",
     "output_type": "stream",
     "text": [
      "{'Name': 'Muhammad Haseeb', 'UNI': 'FAST', 'Team': 'Pakistan', 'House': 'Targaryan'}\n"
     ]
    }
   ],
   "source": [
    "print(dict1)"
   ]
  },
  {
   "cell_type": "code",
   "execution_count": 10,
   "metadata": {},
   "outputs": [],
   "source": [
    "dict2={'Name':'Muhammad Haseeb','UNI':'FAST','Team':'Pakistan','House':\"Targaryan\",'House':'Gryffindor'}"
   ]
  },
  {
   "cell_type": "code",
   "execution_count": 12,
   "metadata": {},
   "outputs": [
    {
     "name": "stdout",
     "output_type": "stream",
     "text": [
      "{'Name': 'Muhammad Haseeb', 'UNI': 'FAST', 'Team': 'Pakistan', 'House': 'Gryffindor'}\n"
     ]
    }
   ],
   "source": [
    "print(dict2)"
   ]
  },
  {
   "cell_type": "code",
   "execution_count": 15,
   "metadata": {},
   "outputs": [
    {
     "name": "stdout",
     "output_type": "stream",
     "text": [
      "{'UNI': 'FAST', 'Team': 'Pakistan', 'House': 'Gryffindor'}\n"
     ]
    }
   ],
   "source": [
    "del dict1['Name']\n",
    "print(dict1) "
   ]
  },
  {
   "cell_type": "code",
   "execution_count": 17,
   "metadata": {},
   "outputs": [
    {
     "name": "stdout",
     "output_type": "stream",
     "text": [
      "Muhammad Haseeb\n",
      "FAST\n",
      "Pakistan\n",
      "Targaryan\n"
     ]
    }
   ],
   "source": [
    "dict1={'Name':'Muhammad Haseeb','UNI':'FAST','Team':'Pakistan','House':\"Targaryan\"}\n",
    "for info  in dict1.values():\n",
    "    print(info)"
   ]
  },
  {
   "cell_type": "code",
   "execution_count": 19,
   "metadata": {},
   "outputs": [
    {
     "name": "stdout",
     "output_type": "stream",
     "text": [
      "Name\n",
      "UNI\n",
      "Team\n",
      "House\n"
     ]
    }
   ],
   "source": [
    "for key in dict1.keys():\n",
    "    print(key)"
   ]
  },
  {
   "cell_type": "code",
   "execution_count": 21,
   "metadata": {},
   "outputs": [
    {
     "data": {
      "text/plain": [
       "('House', 'Targaryan')"
      ]
     },
     "execution_count": 21,
     "metadata": {},
     "output_type": "execute_result"
    }
   ],
   "source": [
    "dict1.popitem()"
   ]
  },
  {
   "cell_type": "code",
   "execution_count": 23,
   "metadata": {},
   "outputs": [
    {
     "name": "stdout",
     "output_type": "stream",
     "text": [
      "Name : Muhammad Haseeb\n",
      "UNI : FAST\n",
      "Team : Pakistan\n",
      "House : Targaryan\n"
     ]
    }
   ],
   "source": [
    "dict1={'Name':'Muhammad Haseeb','UNI':'FAST','Team':'Pakistan','House':\"Targaryan\"}\n",
    "for key in dict1.keys():\n",
    "    print(key,':',dict1[key])"
   ]
  },
  {
   "cell_type": "code",
   "execution_count": 24,
   "metadata": {},
   "outputs": [
    {
     "name": "stdout",
     "output_type": "stream",
     "text": [
      "('Name', 'Muhammad Haseeb')\n",
      "('UNI', 'FAST')\n",
      "('Team', 'Pakistan')\n",
      "('House', 'Targaryan')\n"
     ]
    }
   ],
   "source": [
    "for itm in dict1.items():\n",
    "    print(itm)"
   ]
  },
  {
   "cell_type": "code",
   "execution_count": 27,
   "metadata": {},
   "outputs": [
    {
     "name": "stdout",
     "output_type": "stream",
     "text": [
      "This is a key : Name \tThis is a value : Muhammad Haseeb\n",
      "This is a key : UNI \tThis is a value : FAST\n",
      "This is a key : Team \tThis is a value : Pakistan\n",
      "This is a key : House \tThis is a value : Targaryan\n"
     ]
    }
   ],
   "source": [
    "for key,value in dict1.items():\n",
    "    print(\"This is a key :\",key,\"\\tThis is a value :\",value)"
   ]
  },
  {
   "cell_type": "code",
   "execution_count": 28,
   "metadata": {},
   "outputs": [
    {
     "name": "stdout",
     "output_type": "stream",
     "text": [
      "Name :Muhammad Haseeb\n",
      "Age :18\n",
      "CNIC No :4567-9897982-09\n"
     ]
    }
   ],
   "source": [
    "profile={}\n",
    "profile['name']=input('Name :')\n",
    "profile['age']=input('Age :')\n",
    "profile['cnic']=input('CNIC No :')\n",
    "\n"
   ]
  },
  {
   "cell_type": "code",
   "execution_count": 29,
   "metadata": {},
   "outputs": [
    {
     "name": "stdout",
     "output_type": "stream",
     "text": [
      "{'name': 'Muhammad Haseeb', 'age': '18', 'cnic': '4567-9897982-09'}\n"
     ]
    }
   ],
   "source": [
    "print(profile)"
   ]
  },
  {
   "cell_type": "code",
   "execution_count": 30,
   "metadata": {},
   "outputs": [],
   "source": [
    "customers=[{'customer_id':'123','name':'Ammar'},{'customer_id':'234','name':'Hamza'}\n",
    "          ,{'customer_id':'345','name':'Zain'},{'customer_id':'456','name':'Usman'}]"
   ]
  },
  {
   "cell_type": "code",
   "execution_count": 33,
   "metadata": {},
   "outputs": [
    {
     "data": {
      "text/plain": [
       "{'customer_id': '456', 'name': 'Usman'}"
      ]
     },
     "execution_count": 33,
     "metadata": {},
     "output_type": "execute_result"
    }
   ],
   "source": [
    "customers[-1]"
   ]
  },
  {
   "cell_type": "code",
   "execution_count": 34,
   "metadata": {},
   "outputs": [
    {
     "data": {
      "text/plain": [
       "'Usman'"
      ]
     },
     "execution_count": 34,
     "metadata": {},
     "output_type": "execute_result"
    }
   ],
   "source": [
    "customers[-1]['name']"
   ]
  },
  {
   "cell_type": "code",
   "execution_count": 56,
   "metadata": {},
   "outputs": [],
   "source": [
    "for l in customers:\n",
    "    if (l['customer_id']=='234'):\n",
    "        customers.remove(l)\n",
    "        \n",
    "    "
   ]
  },
  {
   "cell_type": "code",
   "execution_count": 57,
   "metadata": {},
   "outputs": [
    {
     "data": {
      "text/plain": [
       "[{'customer_id': '123', 'name': 'Ammar'},\n",
       " {'customer_id': '345', 'name': 'Zain'},\n",
       " {'customer_id': '456', 'name': 'Usman'}]"
      ]
     },
     "execution_count": 57,
     "metadata": {},
     "output_type": "execute_result"
    }
   ],
   "source": [
    "customers"
   ]
  },
  {
   "cell_type": "code",
   "execution_count": null,
   "metadata": {},
   "outputs": [],
   "source": [
    "##User s input lekr dictionary m list k andar appaend kara dege"
   ]
  },
  {
   "cell_type": "code",
   "execution_count": 58,
   "metadata": {},
   "outputs": [
    {
     "data": {
      "text/plain": [
       "list"
      ]
     },
     "execution_count": 58,
     "metadata": {},
     "output_type": "execute_result"
    }
   ],
   "source": [
    "type(customers)"
   ]
  },
  {
   "cell_type": "code",
   "execution_count": 65,
   "metadata": {},
   "outputs": [],
   "source": [
    "customer_2={\"customer_id\":'123','name':'Hamza','interests':['cricket','gaming ','football','movies',{'game':'fifa','movie' : 'Lord of the rings'}]}"
   ]
  },
  {
   "cell_type": "code",
   "execution_count": 63,
   "metadata": {},
   "outputs": [
    {
     "data": {
      "text/plain": [
       "'fifa'"
      ]
     },
     "execution_count": 63,
     "metadata": {},
     "output_type": "execute_result"
    }
   ],
   "source": [
    "customer_2['interests'][4]['game']"
   ]
  },
  {
   "cell_type": "code",
   "execution_count": 66,
   "metadata": {},
   "outputs": [
    {
     "data": {
      "text/plain": [
       "'Lord of the rings'"
      ]
     },
     "execution_count": 66,
     "metadata": {},
     "output_type": "execute_result"
    }
   ],
   "source": [
    "customer_2['interests'][4]['movie']"
   ]
  },
  {
   "cell_type": "code",
   "execution_count": 72,
   "metadata": {},
   "outputs": [],
   "source": [
    "new_customer={0:{'first name':'John','last name':'Wick','address':'Continental'},\n",
    "              1:{'first name':'Steve','last name':'Roggers','address':'301 arbor town'},\n",
    "             2:{'first name':'Cartoon','last name':'Network','address':'PO Box 1145'}}"
   ]
  },
  {
   "cell_type": "code",
   "execution_count": 73,
   "metadata": {},
   "outputs": [
    {
     "data": {
      "text/plain": [
       "{'first name': 'Cartoon', 'last name': 'Network', 'address': 'PO Box 1145'}"
      ]
     },
     "execution_count": 73,
     "metadata": {},
     "output_type": "execute_result"
    }
   ],
   "source": [
    "new_customer[2]"
   ]
  },
  {
   "cell_type": "code",
   "execution_count": 74,
   "metadata": {},
   "outputs": [
    {
     "data": {
      "text/plain": [
       "'Steve'"
      ]
     },
     "execution_count": 74,
     "metadata": {},
     "output_type": "execute_result"
    }
   ],
   "source": [
    "new_customer[1]['first name']"
   ]
  },
  {
   "cell_type": "code",
   "execution_count": 75,
   "metadata": {},
   "outputs": [
    {
     "data": {
      "text/plain": [
       "True"
      ]
     },
     "execution_count": 75,
     "metadata": {},
     "output_type": "execute_result"
    }
   ],
   "source": [
    "1 in new_customer #(Index available or not)"
   ]
  },
  {
   "cell_type": "code",
   "execution_count": 76,
   "metadata": {},
   "outputs": [
    {
     "data": {
      "text/plain": [
       "False"
      ]
     },
     "execution_count": 76,
     "metadata": {},
     "output_type": "execute_result"
    }
   ],
   "source": [
    "5 in new_customer"
   ]
  },
  {
   "cell_type": "code",
   "execution_count": 78,
   "metadata": {},
   "outputs": [
    {
     "data": {
      "text/plain": [
       "True"
      ]
     },
     "execution_count": 78,
     "metadata": {},
     "output_type": "execute_result"
    }
   ],
   "source": [
    "'address' in new_customer[2]"
   ]
  },
  {
   "cell_type": "markdown",
   "metadata": {},
   "source": [
    "# Functions"
   ]
  },
  {
   "cell_type": "code",
   "execution_count": null,
   "metadata": {},
   "outputs": [],
   "source": [
    "# Robot performing particular task on providing appropriate set of instructions"
   ]
  },
  {
   "cell_type": "code",
   "execution_count": 84,
   "metadata": {},
   "outputs": [],
   "source": [
    "def add():    #Function definition\n",
    "    a=5 \n",
    "    b=3\n",
    "    c=a+b\n",
    "    print(c)"
   ]
  },
  {
   "cell_type": "code",
   "execution_count": 87,
   "metadata": {},
   "outputs": [
    {
     "name": "stdout",
     "output_type": "stream",
     "text": [
      "8\n"
     ]
    }
   ],
   "source": [
    "add()"
   ]
  },
  {
   "cell_type": "code",
   "execution_count": 88,
   "metadata": {},
   "outputs": [],
   "source": [
    "def adder(a,b): #(Parameter)\n",
    "    print(a+b)"
   ]
  },
  {
   "cell_type": "code",
   "execution_count": 93,
   "metadata": {},
   "outputs": [
    {
     "name": "stdout",
     "output_type": "stream",
     "text": [
      "16666\n"
     ]
    }
   ],
   "source": [
    "adder(13232,3434)  #(Arguements)"
   ]
  },
  {
   "cell_type": "code",
   "execution_count": 94,
   "metadata": {},
   "outputs": [
    {
     "data": {
      "text/plain": [
       "function"
      ]
     },
     "execution_count": 94,
     "metadata": {},
     "output_type": "execute_result"
    }
   ],
   "source": [
    "type(adder)"
   ]
  },
  {
   "cell_type": "code",
   "execution_count": 109,
   "metadata": {},
   "outputs": [],
   "source": [
    "def cal(a,b,c):\n",
    "    if(c=='+'):\n",
    "        print(a+b)\n",
    "    elif(c=='-'):\n",
    "        print(a-b)\n",
    "    elif(c=='/'):\n",
    "        print(round (a/b,3))\n",
    "    elif(c=='*'):\n",
    "        print(a*b)\n",
    "    else:\n",
    "        print(\"Invalid Operator\")\n",
    "        "
   ]
  },
  {
   "cell_type": "code",
   "execution_count": 110,
   "metadata": {},
   "outputs": [
    {
     "name": "stdout",
     "output_type": "stream",
     "text": [
      "57\n",
      "-33\n",
      "540\n",
      "0.267\n"
     ]
    }
   ],
   "source": [
    "cal(12,45,'+')\n",
    "cal(12,45,'-')\n",
    "cal(12,45,'*')\n",
    "cal(12,45,'/')\n"
   ]
  },
  {
   "cell_type": "code",
   "execution_count": 1,
   "metadata": {},
   "outputs": [],
   "source": [
    "def cal(a,b=\"\",c='+'):\n",
    "    if(c=='+'):\n",
    "        print(a+b)\n",
    "    elif(c=='-'):\n",
    "        print(a-b)\n",
    "    elif(c=='/'):\n",
    "        print(round (a/b,3))\n",
    "    elif(c=='*'):\n",
    "        print(a*b)\n",
    "    else:\n",
    "        print(\"Invalid Operator\")"
   ]
  },
  {
   "cell_type": "code",
   "execution_count": 2,
   "metadata": {},
   "outputs": [
    {
     "name": "stdout",
     "output_type": "stream",
     "text": [
      "16\n",
      "8\n",
      "2\n"
     ]
    }
   ],
   "source": [
    "cal(12,4)\n",
    "cal(12,4,'-')\n",
    "cal(1,1)"
   ]
  },
  {
   "cell_type": "code",
   "execution_count": 118,
   "metadata": {},
   "outputs": [],
   "source": [
    "def userandfather(user,father):\n",
    "    print(f\"I am {user}\\n My father is {father}\")"
   ]
  },
  {
   "cell_type": "code",
   "execution_count": 116,
   "metadata": {},
   "outputs": [
    {
     "name": "stdout",
     "output_type": "stream",
     "text": [
      "I am Ali\n",
      " My father is Hamza\n"
     ]
    }
   ],
   "source": [
    "userandfather('Ali',\"Hamza\")"
   ]
  },
  {
   "cell_type": "code",
   "execution_count": 119,
   "metadata": {},
   "outputs": [
    {
     "name": "stdout",
     "output_type": "stream",
     "text": [
      "I am Sham\n",
      " My father is IstrAK\n"
     ]
    }
   ],
   "source": [
    "userandfather(father='IstrAK',user='Sham')               "
   ]
  },
  {
   "cell_type": "code",
   "execution_count": 120,
   "metadata": {},
   "outputs": [],
   "source": [
    "# Ek function banana h with first , middle and last names "
   ]
  },
  {
   "cell_type": "code",
   "execution_count": null,
   "metadata": {},
   "outputs": [],
   "source": []
  }
 ],
 "metadata": {
  "kernelspec": {
   "display_name": "Python 3",
   "language": "python",
   "name": "python3"
  },
  "language_info": {
   "codemirror_mode": {
    "name": "ipython",
    "version": 3
   },
   "file_extension": ".py",
   "mimetype": "text/x-python",
   "name": "python",
   "nbconvert_exporter": "python",
   "pygments_lexer": "ipython3",
   "version": "3.7.3"
  }
 },
 "nbformat": 4,
 "nbformat_minor": 2
}
