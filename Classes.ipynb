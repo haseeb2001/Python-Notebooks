{
 "cells": [
  {
   "cell_type": "code",
   "execution_count": 5,
   "metadata": {},
   "outputs": [],
   "source": [
    "albums=[]\n",
    "def make_album(artistt,songg):\n",
    "    dict1={}\n",
    "    for k in albums:\n",
    "        if(k[\"artist\"]==artistt):\n",
    "            print(\"Already added \")\n",
    "            break\n",
    "    else:\n",
    "        dict1['artist']=artistt\n",
    "        dict1['song']=songg\n",
    "    return dict1\n",
    "\n",
    "    "
   ]
  },
  {
   "cell_type": "code",
   "execution_count": 8,
   "metadata": {},
   "outputs": [
    {
     "name": "stdout",
     "output_type": "stream",
     "text": [
      "Already added \n",
      "Already added \n"
     ]
    }
   ],
   "source": [
    "albums.append(make_album(\"Atif\",\"Doorie\"))\n",
    "albums.append(make_album(\"Farhan\",\"Pee jaun\"))"
   ]
  },
  {
   "cell_type": "code",
   "execution_count": 9,
   "metadata": {},
   "outputs": [
    {
     "data": {
      "text/plain": [
       "[{'artist': 'Atif', 'song': 'Doorie'},\n",
       " {'artist': 'Farhan', 'song': 'Pee jaun'},\n",
       " {},\n",
       " {}]"
      ]
     },
     "execution_count": 9,
     "metadata": {},
     "output_type": "execute_result"
    }
   ],
   "source": [
    "albums"
   ]
  },
  {
   "cell_type": "code",
   "execution_count": 16,
   "metadata": {},
   "outputs": [
    {
     "name": "stdout",
     "output_type": "stream",
     "text": [
      "Already added \n"
     ]
    }
   ],
   "source": [
    "for f in albums:\n",
    "    if(f[\"artist\"]==\"Atif\"):\n",
    "        print(\"Already added \")"
   ]
  },
  {
   "cell_type": "code",
   "execution_count": null,
   "metadata": {},
   "outputs": [],
   "source": [
    "for k in albums:\n",
    "    for f in albums:\n",
    "        if(f[\"artist\"])==(k[\"artist\"]):\n",
    "            print(\"Already added \")"
   ]
  },
  {
   "cell_type": "code",
   "execution_count": 5,
   "metadata": {},
   "outputs": [],
   "source": [
    "albums.append(make_album(\"Abida\",\"Pardadari\"))"
   ]
  },
  {
   "cell_type": "code",
   "execution_count": 25,
   "metadata": {},
   "outputs": [
    {
     "name": "stdout",
     "output_type": "stream",
     "text": [
      "Enter Purchasing good :1\n",
      "Enter Purchasing good :2\n",
      "Enter Purchasing good :q\n"
     ]
    }
   ],
   "source": [
    "cart=[]\n",
    "flag=True\n",
    "while flag:\n",
    "    user_input=input(\"Enter Purchasing good :\")\n",
    "    if user_input=='q':\n",
    "        flag=False\n",
    "        break\n",
    "    else:    \n",
    "        cart.append(user_input)"
   ]
  },
  {
   "cell_type": "code",
   "execution_count": 26,
   "metadata": {},
   "outputs": [
    {
     "data": {
      "text/plain": [
       "['1', '2']"
      ]
     },
     "execution_count": 26,
     "metadata": {},
     "output_type": "execute_result"
    }
   ],
   "source": [
    "cart"
   ]
  },
  {
   "cell_type": "code",
   "execution_count": 51,
   "metadata": {},
   "outputs": [],
   "source": [
    "class mobile():\n",
    "    def __init__(self,color,screen_size,battery_duration,brand):\n",
    "        self.color=color\n",
    "        self.screen_size=screen_size\n",
    "        self.battery=battery_duration\n",
    "        self.brand=brand\n",
    "         \n",
    "    def receive_call(self):\n",
    "        print(f\"Call is received now by {self.brand}\")\n",
    "    \n",
    "    def dial_call(self):\n",
    "        print(\"Call is Dialed now\")\n",
    "    def write_message(self):\n",
    "        print(\"Message has been written\")\n",
    "    def send_message(self):\n",
    "        print(\"Message has been send\")\n",
    "        \n",
    "    def play_game(self):\n",
    "        print(f\"Game has been launched on {self.brand}\")"
   ]
  },
  {
   "cell_type": "code",
   "execution_count": 38,
   "metadata": {},
   "outputs": [],
   "source": [
    "mobile1=mobile(\"Black\",\"5 inch\",\"24 hours\",\"Nokia\")"
   ]
  },
  {
   "cell_type": "code",
   "execution_count": 34,
   "metadata": {},
   "outputs": [
    {
     "data": {
      "text/plain": [
       "'24 hours'"
      ]
     },
     "execution_count": 34,
     "metadata": {},
     "output_type": "execute_result"
    }
   ],
   "source": [
    "mobile1.battery"
   ]
  },
  {
   "cell_type": "code",
   "execution_count": 35,
   "metadata": {},
   "outputs": [
    {
     "data": {
      "text/plain": [
       "'Black'"
      ]
     },
     "execution_count": 35,
     "metadata": {},
     "output_type": "execute_result"
    }
   ],
   "source": [
    "mobile1.color"
   ]
  },
  {
   "cell_type": "code",
   "execution_count": 36,
   "metadata": {},
   "outputs": [
    {
     "data": {
      "text/plain": [
       "'Nokia'"
      ]
     },
     "execution_count": 36,
     "metadata": {},
     "output_type": "execute_result"
    }
   ],
   "source": [
    "mobile1.brand"
   ]
  },
  {
   "cell_type": "code",
   "execution_count": 39,
   "metadata": {},
   "outputs": [
    {
     "data": {
      "text/plain": [
       "'5 inch'"
      ]
     },
     "execution_count": 39,
     "metadata": {},
     "output_type": "execute_result"
    }
   ],
   "source": [
    "mobile1.screen_size"
   ]
  },
  {
   "cell_type": "code",
   "execution_count": 59,
   "metadata": {},
   "outputs": [],
   "source": [
    "mobile2=mobile(\"White\",\"6 inch\",\"10 hours\",\"Samsung\")"
   ]
  },
  {
   "cell_type": "code",
   "execution_count": 41,
   "metadata": {},
   "outputs": [
    {
     "data": {
      "text/plain": [
       "'10 hours'"
      ]
     },
     "execution_count": 41,
     "metadata": {},
     "output_type": "execute_result"
    }
   ],
   "source": [
    "mobile2.battery"
   ]
  },
  {
   "cell_type": "code",
   "execution_count": 42,
   "metadata": {},
   "outputs": [
    {
     "data": {
      "text/plain": [
       "'White'"
      ]
     },
     "execution_count": 42,
     "metadata": {},
     "output_type": "execute_result"
    }
   ],
   "source": [
    "mobile2.color"
   ]
  },
  {
   "cell_type": "code",
   "execution_count": 44,
   "metadata": {},
   "outputs": [
    {
     "name": "stdout",
     "output_type": "stream",
     "text": [
      "Call is Dialed now\n"
     ]
    }
   ],
   "source": [
    "mobile2.dial_call()"
   ]
  },
  {
   "cell_type": "code",
   "execution_count": 46,
   "metadata": {},
   "outputs": [
    {
     "name": "stdout",
     "output_type": "stream",
     "text": [
      "Call is Dialed now\n"
     ]
    }
   ],
   "source": [
    "mobile1.dial_call()"
   ]
  },
  {
   "cell_type": "code",
   "execution_count": 47,
   "metadata": {},
   "outputs": [
    {
     "name": "stdout",
     "output_type": "stream",
     "text": [
      "Message has been read\n"
     ]
    }
   ],
   "source": [
    "mobile1.send_message()"
   ]
  },
  {
   "cell_type": "code",
   "execution_count": 60,
   "metadata": {},
   "outputs": [
    {
     "name": "stdout",
     "output_type": "stream",
     "text": [
      "Game has been launched on Samsung\n"
     ]
    }
   ],
   "source": [
    "mobile2.play_game()"
   ]
  },
  {
   "cell_type": "code",
   "execution_count": 56,
   "metadata": {},
   "outputs": [],
   "source": [
    "mobile3=mobile(\"Blue\",\"6 inch\",\"12 hours \",\"Oppo\")"
   ]
  },
  {
   "cell_type": "code",
   "execution_count": 57,
   "metadata": {},
   "outputs": [
    {
     "name": "stdout",
     "output_type": "stream",
     "text": [
      "Game has been launched on Oppo\n"
     ]
    }
   ],
   "source": [
    "mobile3.play_game()"
   ]
  },
  {
   "cell_type": "code",
   "execution_count": 87,
   "metadata": {},
   "outputs": [],
   "source": [
    "class Mobile():\n",
    "    def __init__(self,color,battery_duration,brand):\n",
    "        self.color=color\n",
    "        self.battery=battery_duration\n",
    "        self.brand=brand\n",
    "        self.price=0\n",
    "        \n",
    "    def receive_call(self):\n",
    "        print(f\"Call is received now by {self.brand}\")\n",
    "    \n",
    "    def dial_call(self):\n",
    "        print(\"Call is Dialed now\")\n",
    "    def get_price(self):\n",
    "        print(f\"{self.brand} price is : {self.price}\")\n",
    "    def set_price(self,new):\n",
    "        self.price=new"
   ]
  },
  {
   "cell_type": "code",
   "execution_count": 66,
   "metadata": {},
   "outputs": [],
   "source": [
    "m1=Mobile(\"Silver\",\"2H\",\"OPPO\")"
   ]
  },
  {
   "cell_type": "code",
   "execution_count": 67,
   "metadata": {},
   "outputs": [
    {
     "data": {
      "text/plain": [
       "0"
      ]
     },
     "execution_count": 67,
     "metadata": {},
     "output_type": "execute_result"
    }
   ],
   "source": [
    "m1.price"
   ]
  },
  {
   "cell_type": "code",
   "execution_count": 68,
   "metadata": {},
   "outputs": [],
   "source": [
    "m1.price=100\n"
   ]
  },
  {
   "cell_type": "code",
   "execution_count": 69,
   "metadata": {},
   "outputs": [
    {
     "data": {
      "text/plain": [
       "100"
      ]
     },
     "execution_count": 69,
     "metadata": {},
     "output_type": "execute_result"
    }
   ],
   "source": [
    "m1.price"
   ]
  },
  {
   "cell_type": "code",
   "execution_count": 88,
   "metadata": {},
   "outputs": [],
   "source": [
    "m2=Mobile(\"Blue\",\"10 hours\",\"Huawei\")"
   ]
  },
  {
   "cell_type": "code",
   "execution_count": 80,
   "metadata": {},
   "outputs": [],
   "source": [
    "m2.set_price(1000)"
   ]
  },
  {
   "cell_type": "code",
   "execution_count": 73,
   "metadata": {},
   "outputs": [
    {
     "name": "stdout",
     "output_type": "stream",
     "text": [
      "Huawei price is : 1000\n"
     ]
    }
   ],
   "source": [
    "m2.get_price()"
   ]
  },
  {
   "cell_type": "code",
   "execution_count": 81,
   "metadata": {},
   "outputs": [
    {
     "name": "stdout",
     "output_type": "stream",
     "text": [
      "Huawei price is : 1000\n"
     ]
    }
   ],
   "source": [
    "m2.get_price()"
   ]
  },
  {
   "cell_type": "code",
   "execution_count": null,
   "metadata": {},
   "outputs": [],
   "source": []
  },
  {
   "cell_type": "code",
   "execution_count": null,
   "metadata": {},
   "outputs": [],
   "source": []
  }
 ],
 "metadata": {
  "kernelspec": {
   "display_name": "Python 3",
   "language": "python",
   "name": "python3"
  },
  "language_info": {
   "codemirror_mode": {
    "name": "ipython",
    "version": 3
   },
   "file_extension": ".py",
   "mimetype": "text/x-python",
   "name": "python",
   "nbconvert_exporter": "python",
   "pygments_lexer": "ipython3",
   "version": "3.7.3"
  }
 },
 "nbformat": 4,
 "nbformat_minor": 2
}
